{
 "cells": [
  {
   "cell_type": "code",
   "execution_count": 2,
   "metadata": {},
   "outputs": [],
   "source": [
    "import pandas as pd"
   ]
  },
  {
   "cell_type": "code",
   "execution_count": 20,
   "metadata": {},
   "outputs": [
    {
     "data": {
      "text/plain": [
       "(16, 7)"
      ]
     },
     "execution_count": 20,
     "metadata": {},
     "output_type": "execute_result"
    }
   ],
   "source": [
    "data = pd.read_csv('./data/List Kos _ Apartemen Around CIT - Sheet1.csv')\n",
    "data.drop(['No'], axis = 1, inplace = True) \n",
    "kos_df = data[data['Jenis']=='Kosan']\n",
    "apart = data[data['Jenis']=='Apartment']\n",
    "data.shape"
   ]
  },
  {
   "cell_type": "code",
   "execution_count": 18,
   "metadata": {},
   "outputs": [
    {
     "data": {
      "text/html": [
       "<div>\n",
       "<style scoped>\n",
       "    .dataframe tbody tr th:only-of-type {\n",
       "        vertical-align: middle;\n",
       "    }\n",
       "\n",
       "    .dataframe tbody tr th {\n",
       "        vertical-align: top;\n",
       "    }\n",
       "\n",
       "    .dataframe thead th {\n",
       "        text-align: right;\n",
       "    }\n",
       "</style>\n",
       "<table border=\"1\" class=\"dataframe\">\n",
       "  <thead>\n",
       "    <tr style=\"text-align: right;\">\n",
       "      <th></th>\n",
       "      <th>Nama Kos</th>\n",
       "      <th>Jenis</th>\n",
       "      <th>Rincian Harga</th>\n",
       "      <th>Harga per orang per bulan</th>\n",
       "      <th>Fasilitas</th>\n",
       "      <th>Jarak dari CIT (based on shortest google maps jalur mobil)</th>\n",
       "      <th>[optional] Notes:</th>\n",
       "    </tr>\n",
       "  </thead>\n",
       "  <tbody>\n",
       "    <tr>\n",
       "      <th>1</th>\n",
       "      <td>Kost Pak Mulyono</td>\n",
       "      <td>Kosan</td>\n",
       "      <td>2.4 juta/bulan</td>\n",
       "      <td>2.4 juta</td>\n",
       "      <td>1. Listrik\\n2. Kamar mandi dalam</td>\n",
       "      <td>-</td>\n",
       "      <td>5-10 menit jalan kaki nyampe</td>\n",
       "    </tr>\n",
       "    <tr>\n",
       "      <th>3</th>\n",
       "      <td>Kost Putri</td>\n",
       "      <td>Kosan</td>\n",
       "      <td>1.2 juta / bulan(1orang), 1.7juta / bulan(2orang)</td>\n",
       "      <td>1.2 juta (1 orang)\\n850 ribu (2 orang)</td>\n",
       "      <td>1. Listrik\\n2.Kamar mandi dalam</td>\n",
       "      <td>NaN</td>\n",
       "      <td>5-10 menit jalan kaki nyampe</td>\n",
       "    </tr>\n",
       "    <tr>\n",
       "      <th>4</th>\n",
       "      <td>Kost Bu Yanti</td>\n",
       "      <td>Kosan</td>\n",
       "      <td>2.5 juta / bulan(1 orang),\\n3.4 juta / bulan(2...</td>\n",
       "      <td>2.5 juta ( 1 orang)\\n1.7 juta (2 orang)</td>\n",
       "      <td>1. Listrik\\n2. Laundry\\n3. Kamar mandi dalem k...</td>\n",
       "      <td>NaN</td>\n",
       "      <td>5-10 menit jalan kaki nyampe</td>\n",
       "    </tr>\n",
       "    <tr>\n",
       "      <th>6</th>\n",
       "      <td>Kost Apik Kranti 6B Tipe A</td>\n",
       "      <td>Kosan</td>\n",
       "      <td>765 Ribu / Bulan, sudah termasuk listrik\\n</td>\n",
       "      <td>765 ribu</td>\n",
       "      <td>1. Size kamar: 2 x 2,4 meter\\n2. Kasur\\n3. Lem...</td>\n",
       "      <td>1.8 km</td>\n",
       "      <td>Berjarak &lt; 3km dari rumah makan, circle K, Mas...</td>\n",
       "    </tr>\n",
       "    <tr>\n",
       "      <th>7</th>\n",
       "      <td>Kost pak Ncang</td>\n",
       "      <td>Kosan</td>\n",
       "      <td>2.1 juta / bulan (1 orang),\\n2,3 juta / bulan(...</td>\n",
       "      <td>2.1 juta (1 orang)\\n1.15 juta (2 orang)</td>\n",
       "      <td>1. Listrik\\n2. Air\\n3. Air Panas\\n4. Laundry +...</td>\n",
       "      <td>NaN</td>\n",
       "      <td>Laundry + 300k\\nLaundry(3-4 orang) +500k</td>\n",
       "    </tr>\n",
       "    <tr>\n",
       "      <th>8</th>\n",
       "      <td>Kost Kelinci Bunder 5 Tipe A</td>\n",
       "      <td>Kosan</td>\n",
       "      <td>1.7 juta / bulan</td>\n",
       "      <td>1.7 juta</td>\n",
       "      <td>1. Wifi\\n2. Penjaga Kos\\n3. Ruang Tamu\\n4. CCT...</td>\n",
       "      <td>2.8 km</td>\n",
       "      <td>Berjarak &lt; 3km dari rumah makan, circle K, Mas...</td>\n",
       "    </tr>\n",
       "    <tr>\n",
       "      <th>9</th>\n",
       "      <td>Kost 157 Tipe A</td>\n",
       "      <td>Kosan</td>\n",
       "      <td>1.6 Juta / bulan</td>\n",
       "      <td>1.6 juta</td>\n",
       "      <td>1. AC\\n2. Kasur\\n3. Lemari Baju\\n4. Cleaning S...</td>\n",
       "      <td>5.3 km</td>\n",
       "      <td>Berjarak &lt;3km warteg bahari kemayoran, circle ...</td>\n",
       "    </tr>\n",
       "    <tr>\n",
       "      <th>10</th>\n",
       "      <td>Kost Putri Bu Aan</td>\n",
       "      <td>Kosan</td>\n",
       "      <td>800k / bulan</td>\n",
       "      <td>800 ribu</td>\n",
       "      <td>1. Listrik\\n2. Laundry\\n3. Kamar mandi luar (-AC)</td>\n",
       "      <td>NaN</td>\n",
       "      <td>5-10 menit jalan kaki sampai</td>\n",
       "    </tr>\n",
       "    <tr>\n",
       "      <th>12</th>\n",
       "      <td>Tabhita Kos</td>\n",
       "      <td>Kosan</td>\n",
       "      <td>1.5 juta / bulan (bisa 2 orang)</td>\n",
       "      <td>1.5 juta (1 orang)\\n750 ribu (2 orang)</td>\n",
       "      <td>1. Kasur \\n2. Lemari\\n3. AC\\n4. Kamar mandi da...</td>\n",
       "      <td>2.8 km</td>\n",
       "      <td>Harga belum termasuk listrik. Listrik 1300 W t...</td>\n",
       "    </tr>\n",
       "    <tr>\n",
       "      <th>13</th>\n",
       "      <td>Kost XXI</td>\n",
       "      <td>Kosan</td>\n",
       "      <td>1.6 juta / bulan (1 orang)\\n1.7 juta / bulan (...</td>\n",
       "      <td>1.6 juta (1 orang)\\n850 ribu (2 orang)</td>\n",
       "      <td>1. AC\\n2. Lemari Baju\\n3. Meja Makan \\r\\n4. Ka...</td>\n",
       "      <td>3.4 km</td>\n",
       "      <td>NaN</td>\n",
       "    </tr>\n",
       "    <tr>\n",
       "      <th>14</th>\n",
       "      <td>Crystal Kost</td>\n",
       "      <td>Kosan</td>\n",
       "      <td>2.3 juta (1 orang)</td>\n",
       "      <td>2.3 juta (1 orang)</td>\n",
       "      <td>1. AC \\r\\n2. Free Wifi \\r\\n3. Kamar Mandi dala...</td>\n",
       "      <td>1.3 km</td>\n",
       "      <td>NaN</td>\n",
       "    </tr>\n",
       "    <tr>\n",
       "      <th>15</th>\n",
       "      <td>Rukita Green 21</td>\n",
       "      <td>Kosan</td>\n",
       "      <td>1.8 juta (1 orang)</td>\n",
       "      <td>1.8 juta (1 orang)</td>\n",
       "      <td>1. AC \\r\\n2. Kamar Mandi dalam \\r\\n3. Meja \\r\\...</td>\n",
       "      <td>3.5 km</td>\n",
       "      <td>NaN</td>\n",
       "    </tr>\n",
       "  </tbody>\n",
       "</table>\n",
       "</div>"
      ],
      "text/plain": [
       "                         Nama Kos  Jenis  \\\n",
       "1                Kost Pak Mulyono  Kosan   \n",
       "3                     Kost Putri   Kosan   \n",
       "4                   Kost Bu Yanti  Kosan   \n",
       "6      Kost Apik Kranti 6B Tipe A  Kosan   \n",
       "7                  Kost pak Ncang  Kosan   \n",
       "8   Kost Kelinci Bunder 5 Tipe A   Kosan   \n",
       "9                 Kost 157 Tipe A  Kosan   \n",
       "10              Kost Putri Bu Aan  Kosan   \n",
       "12                    Tabhita Kos  Kosan   \n",
       "13                      Kost XXI   Kosan   \n",
       "14                   Crystal Kost  Kosan   \n",
       "15                Rukita Green 21  Kosan   \n",
       "\n",
       "                                        Rincian Harga  \\\n",
       "1                                      2.4 juta/bulan   \n",
       "3   1.2 juta / bulan(1orang), 1.7juta / bulan(2orang)   \n",
       "4   2.5 juta / bulan(1 orang),\\n3.4 juta / bulan(2...   \n",
       "6          765 Ribu / Bulan, sudah termasuk listrik\\n   \n",
       "7   2.1 juta / bulan (1 orang),\\n2,3 juta / bulan(...   \n",
       "8                                    1.7 juta / bulan   \n",
       "9                                    1.6 Juta / bulan   \n",
       "10                                       800k / bulan   \n",
       "12                    1.5 juta / bulan (bisa 2 orang)   \n",
       "13  1.6 juta / bulan (1 orang)\\n1.7 juta / bulan (...   \n",
       "14                                 2.3 juta (1 orang)   \n",
       "15                                 1.8 juta (1 orang)   \n",
       "\n",
       "                  Harga per orang per bulan  \\\n",
       "1                                  2.4 juta   \n",
       "3    1.2 juta (1 orang)\\n850 ribu (2 orang)   \n",
       "4   2.5 juta ( 1 orang)\\n1.7 juta (2 orang)   \n",
       "6                                  765 ribu   \n",
       "7   2.1 juta (1 orang)\\n1.15 juta (2 orang)   \n",
       "8                                  1.7 juta   \n",
       "9                                  1.6 juta   \n",
       "10                                 800 ribu   \n",
       "12   1.5 juta (1 orang)\\n750 ribu (2 orang)   \n",
       "13   1.6 juta (1 orang)\\n850 ribu (2 orang)   \n",
       "14                       2.3 juta (1 orang)   \n",
       "15                       1.8 juta (1 orang)   \n",
       "\n",
       "                                            Fasilitas  \\\n",
       "1                    1. Listrik\\n2. Kamar mandi dalam   \n",
       "3                     1. Listrik\\n2.Kamar mandi dalam   \n",
       "4   1. Listrik\\n2. Laundry\\n3. Kamar mandi dalem k...   \n",
       "6   1. Size kamar: 2 x 2,4 meter\\n2. Kasur\\n3. Lem...   \n",
       "7   1. Listrik\\n2. Air\\n3. Air Panas\\n4. Laundry +...   \n",
       "8   1. Wifi\\n2. Penjaga Kos\\n3. Ruang Tamu\\n4. CCT...   \n",
       "9   1. AC\\n2. Kasur\\n3. Lemari Baju\\n4. Cleaning S...   \n",
       "10  1. Listrik\\n2. Laundry\\n3. Kamar mandi luar (-AC)   \n",
       "12  1. Kasur \\n2. Lemari\\n3. AC\\n4. Kamar mandi da...   \n",
       "13  1. AC\\n2. Lemari Baju\\n3. Meja Makan \\r\\n4. Ka...   \n",
       "14  1. AC \\r\\n2. Free Wifi \\r\\n3. Kamar Mandi dala...   \n",
       "15  1. AC \\r\\n2. Kamar Mandi dalam \\r\\n3. Meja \\r\\...   \n",
       "\n",
       "   Jarak dari CIT (based on shortest google maps jalur mobil)  \\\n",
       "1                                                   -           \n",
       "3                                                 NaN           \n",
       "4                                                 NaN           \n",
       "6                                              1.8 km           \n",
       "7                                                 NaN           \n",
       "8                                              2.8 km           \n",
       "9                                              5.3 km           \n",
       "10                                                NaN           \n",
       "12                                             2.8 km           \n",
       "13                                             3.4 km           \n",
       "14                                             1.3 km           \n",
       "15                                             3.5 km           \n",
       "\n",
       "                                    [optional] Notes:  \n",
       "1                        5-10 menit jalan kaki nyampe  \n",
       "3                        5-10 menit jalan kaki nyampe  \n",
       "4                        5-10 menit jalan kaki nyampe  \n",
       "6   Berjarak < 3km dari rumah makan, circle K, Mas...  \n",
       "7            Laundry + 300k\\nLaundry(3-4 orang) +500k  \n",
       "8   Berjarak < 3km dari rumah makan, circle K, Mas...  \n",
       "9   Berjarak <3km warteg bahari kemayoran, circle ...  \n",
       "10                       5-10 menit jalan kaki sampai  \n",
       "12  Harga belum termasuk listrik. Listrik 1300 W t...  \n",
       "13                                                NaN  \n",
       "14                                                NaN  \n",
       "15                                                NaN  "
      ]
     },
     "execution_count": 18,
     "metadata": {},
     "output_type": "execute_result"
    }
   ],
   "source": [
    "kos_df"
   ]
  },
  {
   "cell_type": "code",
   "execution_count": 44,
   "metadata": {},
   "outputs": [
    {
     "data": {
      "text/plain": [
       "['1. Listrik\\n2. Laundry\\n3. Kamar mandi luar (-AC)']"
      ]
     },
     "execution_count": 44,
     "metadata": {},
     "output_type": "execute_result"
    }
   ],
   "source": [
    "raw_fasilitas_pak_mulyono = kos_df[kos_df['Nama Kos']==\"Kost Putri Bu Aan\"][\"Fasilitas\"]\n",
    "fasilitas_pak_mulyono = [i for i in raw_fasilitas_pak_mulyono]\n",
    "fasilitas_pak_mulyono"
   ]
  },
  {
   "cell_type": "code",
   "execution_count": 45,
   "metadata": {},
   "outputs": [
    {
     "data": {
      "text/plain": [
       "['5-10 menit jalan kaki sampai']"
      ]
     },
     "execution_count": 45,
     "metadata": {},
     "output_type": "execute_result"
    }
   ],
   "source": [
    "bu_aan  = kos_df[kos_df['Nama Kos']==\"Kost Putri Bu Aan\"][\"[optional] Notes:\"]\n",
    "bu_aan_list = [i for i in bu_aan]\n",
    "bu_aan_list"
   ]
  },
  {
   "cell_type": "code",
   "execution_count": 16,
   "metadata": {},
   "outputs": [
    {
     "data": {
      "text/plain": [
       "['1. Listrik\\n2. Kamar mandi dalam']"
      ]
     },
     "execution_count": 16,
     "metadata": {},
     "output_type": "execute_result"
    }
   ],
   "source": [
    "raw_fasilitas_pak_mulyono = kos_df[kos_df['Nama Kos']==\"Kost Pak Mulyono\"][\"Fasilitas\"]\n",
    "fasilitas_pak_mulyono = [i for i in raw_fasilitas_pak_mulyono]\n",
    "fasilitas_pak_mulyono"
   ]
  },
  {
   "cell_type": "code",
   "execution_count": 21,
   "metadata": {},
   "outputs": [
    {
     "data": {
      "text/plain": [
       "['1. Listrik\\n2. Laundry\\n3. Kamar mandi dalem kamar dibersihkan 1 minggu sekali ']"
      ]
     },
     "execution_count": 21,
     "metadata": {},
     "output_type": "execute_result"
    }
   ],
   "source": [
    "raw_fasilitas_yanti = kos_df[kos_df['Nama Kos']==\"Kost Bu Yanti\"][\"Fasilitas\"]\n",
    "fasilitas_yanti = [i for i in raw_fasilitas_yanti]\n",
    "fasilitas_yanti"
   ]
  },
  {
   "cell_type": "code",
   "execution_count": 33,
   "metadata": {},
   "outputs": [
    {
     "data": {
      "text/plain": [
       "['1. Size kamar: 2 x 2,4 meter\\n2. Kasur\\n3. Lemari Baju\\n4. Kipas Angin\\n5. Bantal\\n6. Ada Jendela\\n7. Kloset jongkok\\n8. Kamar Mandi Luar\\n9. Wastafel']"
      ]
     },
     "execution_count": 33,
     "metadata": {},
     "output_type": "execute_result"
    }
   ],
   "source": [
    "raw_apik = kos_df[kos_df['Nama Kos']==\"Kost Apik Kranti 6B Tipe A\"][\"Fasilitas\"]\n",
    "apik = [i for i in raw_apik]\n",
    "apik"
   ]
  },
  {
   "cell_type": "code",
   "execution_count": 23,
   "metadata": {},
   "outputs": [
    {
     "data": {
      "text/plain": [
       "['Berjarak < 3km dari rumah makan, circle K, Masjid, BTN, STIE, RS Umum, < 1km dari halte, statiun pasar senen, terminal pasar senen, tidak ada AC']"
      ]
     },
     "execution_count": 23,
     "metadata": {},
     "output_type": "execute_result"
    }
   ],
   "source": [
    "apik_notes  = kos_df[kos_df['Nama Kos']==\"Kost Apik Kranti 6B Tipe A\"][\"[optional] Notes:\"]\n",
    "apik_notes_list = [i for i in apik_notes]\n",
    "apik_notes_list"
   ]
  },
  {
   "cell_type": "code",
   "execution_count": 34,
   "metadata": {},
   "outputs": [
    {
     "data": {
      "text/plain": [
       "['1. Listrik\\n2. Air\\n3. Air Panas\\n4. Laundry + Setrika\\n5. Kamar mandi dalem\\n6. Gas']"
      ]
     },
     "execution_count": 34,
     "metadata": {},
     "output_type": "execute_result"
    }
   ],
   "source": [
    "raw_fasilitas_ncang = kos_df[kos_df['Nama Kos']==\"Kost pak Ncang\"][\"Fasilitas\"]\n",
    "fasilitas_ncang = [i for i in raw_fasilitas_ncang]\n",
    "fasilitas_ncang"
   ]
  },
  {
   "cell_type": "code",
   "execution_count": 35,
   "metadata": {},
   "outputs": [
    {
     "data": {
      "text/plain": [
       "['Laundry + 300k\\nLaundry(3-4 orang) +500k']"
      ]
     },
     "execution_count": 35,
     "metadata": {},
     "output_type": "execute_result"
    }
   ],
   "source": [
    "ncang_notes  = kos_df[kos_df['Nama Kos']==\"Kost pak Ncang\"][\"[optional] Notes:\"]\n",
    "ncang_notes_list = [i for i in ncang_notes]\n",
    "ncang_notes_list"
   ]
  },
  {
   "cell_type": "code",
   "execution_count": 38,
   "metadata": {},
   "outputs": [
    {
     "data": {
      "text/plain": [
       "['1. Wifi\\n2. Penjaga Kos\\n3. Ruang Tamu\\n4. CCTV\\n5. Parkir Mobil Motor Sepeda\\n']"
      ]
     },
     "execution_count": 38,
     "metadata": {},
     "output_type": "execute_result"
    }
   ],
   "source": [
    "raw_fasilitas_kelinci = kos_df[kos_df['Nama Kos']==\"Kost Kelinci Bunder 5 Tipe A \"][\"Fasilitas\"]\n",
    "fasilitas_kelinci = [i for i in raw_fasilitas_kelinci]\n",
    "fasilitas_kelinci"
   ]
  },
  {
   "cell_type": "code",
   "execution_count": 39,
   "metadata": {},
   "outputs": [
    {
     "data": {
      "text/plain": [
       "['Berjarak < 3km dari rumah makan, circle K, Masjid AL Iman, BTN, STIE, dan RS Umum PAD Gatot']"
      ]
     },
     "execution_count": 39,
     "metadata": {},
     "output_type": "execute_result"
    }
   ],
   "source": [
    "kelinci_notes  = kos_df[kos_df['Nama Kos']==\"Kost Kelinci Bunder 5 Tipe A \"][\"[optional] Notes:\"]\n",
    "kelinci_notes_list = [i for i in kelinci_notes]\n",
    "kelinci_notes_list"
   ]
  },
  {
   "cell_type": "code",
   "execution_count": 42,
   "metadata": {},
   "outputs": [
    {
     "data": {
      "text/plain": [
       "['1. AC\\n2. Kasur\\n3. Lemari Baju\\n4. Cleaning Service\\n5. Kloset Duduk\\n6. Kamar Mandi Luar\\n7. Wastafel\\n8. Shower\\n9. Air Panas']"
      ]
     },
     "execution_count": 42,
     "metadata": {},
     "output_type": "execute_result"
    }
   ],
   "source": [
    "raw_fasilitas_157 = kos_df[kos_df['Nama Kos']==\"Kost 157 Tipe A\"][\"Fasilitas\"]\n",
    "fasilitas_157 = [i for i in raw_fasilitas_157]\n",
    "fasilitas_157"
   ]
  },
  {
   "cell_type": "code",
   "execution_count": 43,
   "metadata": {},
   "outputs": [
    {
     "data": {
      "text/plain": [
       "['Berjarak <3km warteg bahari kemayoran, circle K, Masjid AL Iman, STIE Jakarta International College']"
      ]
     },
     "execution_count": 43,
     "metadata": {},
     "output_type": "execute_result"
    }
   ],
   "source": [
    "kos_157  = kos_df[kos_df['Nama Kos']==\"Kost 157 Tipe A\"][\"[optional] Notes:\"]\n",
    "kos_157_list = [i for i in kos_157]\n",
    "kos_157_list"
   ]
  },
  {
   "cell_type": "code",
   "execution_count": null,
   "metadata": {},
   "outputs": [
    {
     "data": {
      "text/plain": [
       "array(['Kost Pak Mulyono', 'Kost Putri ', 'Kost Bu Yanti',\n",
       "       'Kost Apik Kranti 6B Tipe A', 'Kost pak Ncang',\n",
       "       'Kost Kelinci Bunder 5 Tipe A ', 'Kost 157 Tipe A',\n",
       "       'Kost Putri Bu Aan', 'Tabhita Kos', 'Kost XXI ', 'Crystal Kost',\n",
       "       'Rukita Green 21'], dtype=object)"
      ]
     },
     "execution_count": 6,
     "metadata": {},
     "output_type": "execute_result"
    }
   ],
   "source": [
    "kos_df['Nama Kos'].unique()"
   ]
  },
  {
   "cell_type": "code",
   "execution_count": 41,
   "metadata": {},
   "outputs": [
    {
     "data": {
      "text/plain": [
       "array(['The Mansion Jasmine Tower', 'Springhill', 'Springhill Lain',\n",
       "       'Grand Palace Kemayoran'], dtype=object)"
      ]
     },
     "execution_count": 41,
     "metadata": {},
     "output_type": "execute_result"
    }
   ],
   "source": [
    "apart['Nama Kos'].unique()"
   ]
  }
 ],
 "metadata": {
  "kernelspec": {
   "display_name": "Python 3.10.8 64-bit",
   "language": "python",
   "name": "python3"
  },
  "language_info": {
   "codemirror_mode": {
    "name": "ipython",
    "version": 3
   },
   "file_extension": ".py",
   "mimetype": "text/x-python",
   "name": "python",
   "nbconvert_exporter": "python",
   "pygments_lexer": "ipython3",
   "version": "3.10.8"
  },
  "orig_nbformat": 4,
  "vscode": {
   "interpreter": {
    "hash": "edf259275ad4a72d4dd5b452264ad5fb2b635233dff2a31edc6ebc740e55e21b"
   }
  }
 },
 "nbformat": 4,
 "nbformat_minor": 2
}
